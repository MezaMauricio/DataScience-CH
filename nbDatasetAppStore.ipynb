{
 "cells": [
  {
   "cell_type": "code",
   "execution_count": 1,
   "metadata": {},
   "outputs": [
    {
     "name": "stdout",
     "output_type": "stream",
     "text": [
      "(7197, 17)\n",
      "    Unnamed: 0         id                                         track_name  \\\n",
      "0            1  281656475                                    PAC-MAN Premium   \n",
      "1            2  281796108                          Evernote - stay organized   \n",
      "2            3  281940292    WeatherBug - Local Weather, Radar, Maps, Alerts   \n",
      "3            4  282614216  eBay: Best App to Buy, Sell, Save! Online Shop...   \n",
      "4            5  282935706                                              Bible   \n",
      "5            6  283619399                                   Shanghai Mahjong   \n",
      "6            7  283646709             PayPal - Send and request money safely   \n",
      "7            8  284035177                            Pandora - Music & Radio   \n",
      "8            9  284666222                        PCalc - The Best Calculator   \n",
      "9           10  284736660                                        Ms. PAC-MAN   \n",
      "10          11  284791396                          Solitaire by MobilityWare   \n",
      "11          12  284815117                                   SCRABBLE Premium   \n",
      "12          13  284815942               Google – Search made just for mobile   \n",
      "13          14  284847138                   Bank of America - Mobile Banking   \n",
      "14          15  284862767                                           FreeCell   \n",
      "\n",
      "    size_bytes currency  price  rating_count_tot  rating_count_ver  \\\n",
      "0    100788224      USD   3.99             21292                26   \n",
      "1    158578688      USD   0.00            161065                26   \n",
      "2    100524032      USD   0.00            188583              2822   \n",
      "3    128512000      USD   0.00            262241               649   \n",
      "4     92774400      USD   0.00            985920              5320   \n",
      "5     10485713      USD   0.99              8253              5516   \n",
      "6    227795968      USD   0.00            119487               879   \n",
      "7    130242560      USD   0.00           1126879              3594   \n",
      "8     49250304      USD   9.99              1117                 4   \n",
      "9     70023168      USD   3.99              7885                40   \n",
      "10    49618944      USD   4.99             76720              4017   \n",
      "11   227547136      USD   7.99            105776               166   \n",
      "12   179979264      USD   0.00            479440               203   \n",
      "13   160925696      USD   0.00            119773              2336   \n",
      "14    55153664      USD   4.99              6340               668   \n",
      "\n",
      "    user_rating  user_rating_ver     ver cont_rating   prime_genre  \\\n",
      "0           4.0              4.5   6.3.5          4+         Games   \n",
      "1           4.0              3.5   8.2.2          4+  Productivity   \n",
      "2           3.5              4.5   5.0.0          4+       Weather   \n",
      "3           4.0              4.5  5.10.0         12+      Shopping   \n",
      "4           4.5              5.0   7.5.1          4+     Reference   \n",
      "5           4.0              4.0     1.8          4+         Games   \n",
      "6           4.0              4.5  6.12.0          4+       Finance   \n",
      "7           4.0              4.5   8.4.1         12+         Music   \n",
      "8           4.5              5.0   3.6.6          4+     Utilities   \n",
      "9           4.0              4.0   4.0.4          4+         Games   \n",
      "10          4.5              4.5  4.10.1          4+         Games   \n",
      "11          3.5              2.5  5.19.0          4+         Games   \n",
      "12          3.5              4.0    27.0         17+     Utilities   \n",
      "13          3.5              4.5   7.3.8          4+       Finance   \n",
      "14          4.5              4.5   4.0.3          4+         Games   \n",
      "\n",
      "    sup_devices.num  ipadSc_urls.num  lang.num  vpp_lic  \n",
      "0                38                5        10        1  \n",
      "1                37                5        23        1  \n",
      "2                37                5         3        1  \n",
      "3                37                5         9        1  \n",
      "4                37                5        45        1  \n",
      "5                47                5         1        1  \n",
      "6                37                0        19        1  \n",
      "7                37                4         1        1  \n",
      "8                37                5         1        1  \n",
      "9                38                0        10        1  \n",
      "10               38                4        11        1  \n",
      "11               37                0         6        1  \n",
      "12               37                4        33        1  \n",
      "13               37                0         2        1  \n",
      "14               38                5         2        1  \n"
     ]
    }
   ],
   "source": [
    "import pandas\n",
    "\n",
    "\n",
    "dataset3 = 'Dataset1erEntrega/AppStore.csv'\n",
    "\n",
    "set3 = pandas.read_csv(dataset3, header=0)\n",
    "\n",
    "\n",
    "print(set3.shape)\n",
    "print (set3.head(15))"
   ]
  }
 ],
 "metadata": {
  "kernelspec": {
   "display_name": "Python 3",
   "language": "python",
   "name": "python3"
  },
  "language_info": {
   "codemirror_mode": {
    "name": "ipython",
    "version": 3
   },
   "file_extension": ".py",
   "mimetype": "text/x-python",
   "name": "python",
   "nbconvert_exporter": "python",
   "pygments_lexer": "ipython3",
   "version": "3.11.1"
  },
  "orig_nbformat": 4,
  "vscode": {
   "interpreter": {
    "hash": "477de128947aa56316997359c4fa3f815eda302f49ba8e89d37bcd93ac440a1c"
   }
  }
 },
 "nbformat": 4,
 "nbformat_minor": 2
}
