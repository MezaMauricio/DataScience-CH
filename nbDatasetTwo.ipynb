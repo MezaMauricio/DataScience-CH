{
 "cells": [
  {
   "cell_type": "code",
   "execution_count": null,
   "metadata": {},
   "outputs": [],
   "source": [
    "import pandas\n",
    "\n",
    "dataset2 = 'data.csv'\n",
    "\n",
    "\n",
    "\n",
    "set2 = pandas.read_csv(dataset2, header=0)\n",
    "\n",
    "\n",
    "print(set2.shape)\n",
    "print (set2.head(10))\n"
   ]
  }
 ],
 "metadata": {
  "kernelspec": {
   "display_name": "Python 3",
   "language": "python",
   "name": "python3"
  },
  "language_info": {
   "name": "python",
   "version": "3.11.1 (tags/v3.11.1:a7a450f, Dec  6 2022, 19:58:39) [MSC v.1934 64 bit (AMD64)]"
  },
  "orig_nbformat": 4,
  "vscode": {
   "interpreter": {
    "hash": "477de128947aa56316997359c4fa3f815eda302f49ba8e89d37bcd93ac440a1c"
   }
  }
 },
 "nbformat": 4,
 "nbformat_minor": 2
}
